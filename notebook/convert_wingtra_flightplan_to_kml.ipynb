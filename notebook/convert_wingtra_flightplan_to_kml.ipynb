{
 "cells": [
  {
   "cell_type": "markdown",
   "metadata": {},
   "source": [
    "# Convert Wingtra flight plan to KML"
   ]
  },
  {
   "cell_type": "code",
   "execution_count": 1,
   "metadata": {},
   "outputs": [],
   "source": [
    "# Author: Farid Javadnejad\n",
    "# Date: 2025-02-18\n",
    "#\n",
    "# DESCRIPTION:\n",
    "# This script converts a Wingtra UAS flight plan from a .flightplan file (i.e., JSON) to a KML file, \n",
    "# extracting the survey area and adding a Placemark for the takeoff/landing location.\n",
    "#\n",
    "# DISCLAIMER:\n",
    "# This script was developed with the assistance of AI tools for debugging, reviewing, and testing.\n",
    "# ---------------------------------------------------------------------------------------------------"
   ]
  },
  {
   "cell_type": "code",
   "execution_count": 2,
   "metadata": {},
   "outputs": [],
   "source": [
    "#pip install simplekml fastkml lxml\n",
    "import json\n",
    "import os\n",
    "import simplekml\n",
    "\n",
    "\n",
    "#Global color defintion\n",
    "global FILL_COLOR\n"
   ]
  },
  {
   "cell_type": "code",
   "execution_count": 3,
   "metadata": {},
   "outputs": [],
   "source": [
    "def read_flightplan(file_path):\n",
    "    with open(file_path, \"r\") as file:\n",
    "        return json.load(file)\n",
    "\n",
    "def extract_survey_area(flightplan):\n",
    "    for item in flightplan.get(\"flightPlan\", {}).get(\"items\", []):\n",
    "        if item.get(\"complexItemType\") == \"area\" and \"polygon\" in item:\n",
    "            return item[\"polygon\"]\n",
    "    return None\n",
    "\n",
    "def extract_corridors(flightplan):\n",
    "    corridors = []\n",
    "    for item in flightplan.get(\"flightPlan\", {}).get(\"items\", []):\n",
    "        if item.get(\"complexItemType\") == \"corridor\" and \"corridor\" in item:\n",
    "            polyline = item[\"corridor\"].get(\"polyline\", [])\n",
    "            if polyline:\n",
    "                corridors.append(polyline)\n",
    "    return corridors\n",
    "\n",
    "def convert_to_kml_coordinates(coords):\n",
    "    try:\n",
    "        return [(point[1], point[0]) for point in coords]\n",
    "    except IndexError:\n",
    "        print(\"Invalid coordinate format.\")\n",
    "        return None\n",
    "\n",
    "\n",
    "def create_kml_file(kml_coordinates, corridors, takeoff_landing, file_path):\n",
    "    kml = simplekml.Kml()\n",
    "\n",
    "    # Add area polygon\n",
    "    if kml_coordinates:\n",
    "        pol = kml.newpolygon(name=\"Flight Area\", outerboundaryis=kml_coordinates)\n",
    "        pol.style.polystyle.color = simplekml.Color.rgb(FILL_COLOR[0], FILL_COLOR[1], FILL_COLOR[2], 128) #50% opacity (128/255)\n",
    "        pol.style.linestyle.color = simplekml.Color.rgb(255, 255, 255)\n",
    "        pol.style.linestyle.width = 1.0\n",
    "    \n",
    "    # Add corridors as polylines\n",
    "    for i, corridor in enumerate(corridors):\n",
    "        kml_coords = convert_to_kml_coordinates(corridor)\n",
    "        #randoly choose a color\n",
    "        if kml_coords:\n",
    "            line = kml.newlinestring(name=f\"Corridor {i+1}\", coords=kml_coords)\n",
    "            line.style.linestyle.color = simplekml.Color.rgb(FILL_COLOR[0], FILL_COLOR[1], FILL_COLOR[2], 128) #50% opacity (128/255)\n",
    "            line.style.linestyle.width = 100\n",
    "    \n",
    "    # Add takeoff/landing point with custom icon\n",
    "    if takeoff_landing:\n",
    "        point = kml.newpoint(name=\"H\", coords=[(takeoff_landing[1], takeoff_landing[0], takeoff_landing[2])])\n",
    "        point.style.iconstyle.icon.href = \"https://maps.google.com/mapfiles/kml/shapes/target.png\"\n",
    "        point.style.iconstyle.scale = 0.9  # Icon size\n",
    "        point.style.iconstyle.color = simplekml.Color.rgb(0, 170, 255)  # Label color\n",
    "        point.style.labelstyle.scale = 0.7  # Label size\n",
    "        point.style.labelstyle.color = simplekml.Color.rgb(0, 170, 255)  # Label color\n",
    "        \n",
    "    \n",
    "    kml_filename = os.path.splitext(file_path)[0] + \".kml\"\n",
    "    kml.save(kml_filename)\n",
    "    print(f\"KML file saved: {kml_filename}\")\n",
    "\n",
    "\n",
    "def convert_flightplan_to_kml(file_path):\n",
    "    flightplan = read_flightplan(file_path)\n",
    "    survey_area = extract_survey_area(flightplan)\n",
    "    corridors = extract_corridors(flightplan)\n",
    "\n",
    "    kml_coordinates = convert_to_kml_coordinates(survey_area) if survey_area else None\n",
    "    takeoff_landing = flightplan.get(\"flightPlan\", {}).get(\"items\", [])[0].get(\"coordinate\", [])\n",
    "    create_kml_file(kml_coordinates, corridors, takeoff_landing, file_path)"
   ]
  },
  {
   "cell_type": "code",
   "execution_count": 4,
   "metadata": {},
   "outputs": [],
   "source": [
    "# Colors \n",
    "Blue = (0,170,255) \n",
    "Green = (0,255,0) \n",
    "Orange = (255,170,0) \n",
    "Magenta = (255,0,255)\n",
    "\n",
    "colors = [Blue, Green, Orange, Magenta]"
   ]
  },
  {
   "cell_type": "code",
   "execution_count": 5,
   "metadata": {},
   "outputs": [
    {
     "name": "stdout",
     "output_type": "stream",
     "text": [
      "KML file saved: C:\\Users\\USFJ139860\\OneDrive - WSP O365\\Projects\\20250225 - NM 128 P1-P2 Additional Survey\\RS\\00_PLANNING\\Flight Plans NEW\\NM 128 LiDAR P1C_NEW.kml\n",
      "KML file saved: C:\\Users\\USFJ139860\\OneDrive - WSP O365\\Projects\\20250225 - NM 128 P1-P2 Additional Survey\\RS\\00_PLANNING\\Flight Plans NEW\\NM 128 LiDAR P4A_NEW.kml\n"
     ]
    }
   ],
   "source": [
    "# Define the folder containing the target files\n",
    "read_folder = r\"C:\\Users\\USFJ139860\\OneDrive - WSP O365\\Projects\\20250225 - NM 128 P1-P2 Additional Survey\\RS\\00_PLANNING\\Flight Plans NEW\"\n",
    "# Define extention\n",
    "read_file_extension = \".flightplan\"\n",
    "\n",
    "# Color: Initialize an index variable to track the current color\n",
    "index = 0\n",
    "\n",
    "# Loop through all target files in the read_folder\n",
    "for read_file in os.listdir(read_folder):\n",
    "\n",
    "    # READ FILE AND CREATE KML\n",
    "    if read_file.endswith(read_file_extension):\n",
    "        file_path = os.path.join(read_folder, read_file)\n",
    "        #Pick the color based on the current index, then increment the index\n",
    "        FILL_COLOR = colors[index]\n",
    "        # Increment the index and cycle back to the beginning\n",
    "        index = (index + 1) % len(colors)\n",
    "        convert_flightplan_to_kml(file_path)\n"
   ]
  },
  {
   "cell_type": "code",
   "execution_count": null,
   "metadata": {},
   "outputs": [],
   "source": []
  },
  {
   "cell_type": "code",
   "execution_count": null,
   "metadata": {},
   "outputs": [],
   "source": []
  }
 ],
 "metadata": {
  "kernelspec": {
   "display_name": "Python 3",
   "language": "python",
   "name": "python3"
  },
  "language_info": {
   "codemirror_mode": {
    "name": "ipython",
    "version": 3
   },
   "file_extension": ".py",
   "mimetype": "text/x-python",
   "name": "python",
   "nbconvert_exporter": "python",
   "pygments_lexer": "ipython3",
   "version": "3.13.1"
  }
 },
 "nbformat": 4,
 "nbformat_minor": 2
}
